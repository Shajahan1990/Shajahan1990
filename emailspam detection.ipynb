{
 "cells": [
  {
   "cell_type": "code",
   "execution_count": 9,
   "id": "22280193",
   "metadata": {},
   "outputs": [],
   "source": [
    "import numpy as np\n",
    "import pandas as pd\n",
    "from sklearn. model_selection import train_test_split\n",
    "from sklearn.feature_extraction.text import TfidfVectorizer\n",
    "from sklearn.linear_model import LogisticRegression \n",
    "from sklearn.metrics import accuracy_score"
   ]
  },
  {
   "cell_type": "code",
   "execution_count": 10,
   "id": "996ef3fd",
   "metadata": {},
   "outputs": [],
   "source": [
    "#The method takes a list of text documents as input, and returns a sparse matrix representation of the TF-IDF scores for each document\n",
    "# feature of extraction technique commondly used natural language processing (NLP), Text mining task. TF id task for collection of text document into numerical value that machine learning can use\n",
    "# it work binaryclassification problem where target variable has two classes\n",
    "# it uses to evaluae the model performance"
   ]
  },
  {
   "cell_type": "code",
   "execution_count": 13,
   "id": "de025d6b",
   "metadata": {},
   "outputs": [],
   "source": [
    "df = pd.read_csv('mail_data.csv')"
   ]
  },
  {
   "cell_type": "code",
   "execution_count": 14,
   "id": "6deb3de0",
   "metadata": {},
   "outputs": [
    {
     "data": {
      "text/html": [
       "<div>\n",
       "<style scoped>\n",
       "    .dataframe tbody tr th:only-of-type {\n",
       "        vertical-align: middle;\n",
       "    }\n",
       "\n",
       "    .dataframe tbody tr th {\n",
       "        vertical-align: top;\n",
       "    }\n",
       "\n",
       "    .dataframe thead th {\n",
       "        text-align: right;\n",
       "    }\n",
       "</style>\n",
       "<table border=\"1\" class=\"dataframe\">\n",
       "  <thead>\n",
       "    <tr style=\"text-align: right;\">\n",
       "      <th></th>\n",
       "      <th>Category</th>\n",
       "      <th>Message</th>\n",
       "    </tr>\n",
       "  </thead>\n",
       "  <tbody>\n",
       "    <tr>\n",
       "      <th>0</th>\n",
       "      <td>ham</td>\n",
       "      <td>Go until jurong point, crazy.. Available only ...</td>\n",
       "    </tr>\n",
       "    <tr>\n",
       "      <th>1</th>\n",
       "      <td>ham</td>\n",
       "      <td>Ok lar... Joking wif u oni...</td>\n",
       "    </tr>\n",
       "    <tr>\n",
       "      <th>2</th>\n",
       "      <td>spam</td>\n",
       "      <td>Free entry in 2 a wkly comp to win FA Cup fina...</td>\n",
       "    </tr>\n",
       "    <tr>\n",
       "      <th>3</th>\n",
       "      <td>ham</td>\n",
       "      <td>U dun say so early hor... U c already then say...</td>\n",
       "    </tr>\n",
       "    <tr>\n",
       "      <th>4</th>\n",
       "      <td>ham</td>\n",
       "      <td>Nah I don't think he goes to usf, he lives aro...</td>\n",
       "    </tr>\n",
       "  </tbody>\n",
       "</table>\n",
       "</div>"
      ],
      "text/plain": [
       "  Category                                            Message\n",
       "0      ham  Go until jurong point, crazy.. Available only ...\n",
       "1      ham                      Ok lar... Joking wif u oni...\n",
       "2     spam  Free entry in 2 a wkly comp to win FA Cup fina...\n",
       "3      ham  U dun say so early hor... U c already then say...\n",
       "4      ham  Nah I don't think he goes to usf, he lives aro..."
      ]
     },
     "execution_count": 14,
     "metadata": {},
     "output_type": "execute_result"
    }
   ],
   "source": [
    "df.head()"
   ]
  },
  {
   "cell_type": "code",
   "execution_count": 130,
   "id": "a61bc32a",
   "metadata": {},
   "outputs": [],
   "source": [
    "#replace the null value to nullstring"
   ]
  },
  {
   "cell_type": "code",
   "execution_count": 131,
   "id": "c18e36b5",
   "metadata": {},
   "outputs": [],
   "source": [
    "data = df.where(pd.notnull(df), '') #all the values are replaced with a Boolean value True for NOT NULL values, and otherwise False"
   ]
  },
  {
   "cell_type": "code",
   "execution_count": 16,
   "id": "d13884bb",
   "metadata": {},
   "outputs": [
    {
     "data": {
      "text/html": [
       "<div>\n",
       "<style scoped>\n",
       "    .dataframe tbody tr th:only-of-type {\n",
       "        vertical-align: middle;\n",
       "    }\n",
       "\n",
       "    .dataframe tbody tr th {\n",
       "        vertical-align: top;\n",
       "    }\n",
       "\n",
       "    .dataframe thead th {\n",
       "        text-align: right;\n",
       "    }\n",
       "</style>\n",
       "<table border=\"1\" class=\"dataframe\">\n",
       "  <thead>\n",
       "    <tr style=\"text-align: right;\">\n",
       "      <th></th>\n",
       "      <th>Category</th>\n",
       "      <th>Message</th>\n",
       "    </tr>\n",
       "  </thead>\n",
       "  <tbody>\n",
       "    <tr>\n",
       "      <th>0</th>\n",
       "      <td>ham</td>\n",
       "      <td>Go until jurong point, crazy.. Available only ...</td>\n",
       "    </tr>\n",
       "    <tr>\n",
       "      <th>1</th>\n",
       "      <td>ham</td>\n",
       "      <td>Ok lar... Joking wif u oni...</td>\n",
       "    </tr>\n",
       "    <tr>\n",
       "      <th>2</th>\n",
       "      <td>spam</td>\n",
       "      <td>Free entry in 2 a wkly comp to win FA Cup fina...</td>\n",
       "    </tr>\n",
       "    <tr>\n",
       "      <th>3</th>\n",
       "      <td>ham</td>\n",
       "      <td>U dun say so early hor... U c already then say...</td>\n",
       "    </tr>\n",
       "    <tr>\n",
       "      <th>4</th>\n",
       "      <td>ham</td>\n",
       "      <td>Nah I don't think he goes to usf, he lives aro...</td>\n",
       "    </tr>\n",
       "  </tbody>\n",
       "</table>\n",
       "</div>"
      ],
      "text/plain": [
       "  Category                                            Message\n",
       "0      ham  Go until jurong point, crazy.. Available only ...\n",
       "1      ham                      Ok lar... Joking wif u oni...\n",
       "2     spam  Free entry in 2 a wkly comp to win FA Cup fina...\n",
       "3      ham  U dun say so early hor... U c already then say...\n",
       "4      ham  Nah I don't think he goes to usf, he lives aro..."
      ]
     },
     "execution_count": 16,
     "metadata": {},
     "output_type": "execute_result"
    }
   ],
   "source": [
    "data.head()"
   ]
  },
  {
   "cell_type": "code",
   "execution_count": 17,
   "id": "813ac1dc",
   "metadata": {},
   "outputs": [
    {
     "name": "stdout",
     "output_type": "stream",
     "text": [
      "<class 'pandas.core.frame.DataFrame'>\n",
      "RangeIndex: 5572 entries, 0 to 5571\n",
      "Data columns (total 2 columns):\n",
      " #   Column    Non-Null Count  Dtype \n",
      "---  ------    --------------  ----- \n",
      " 0   Category  5572 non-null   object\n",
      " 1   Message   5572 non-null   object\n",
      "dtypes: object(2)\n",
      "memory usage: 87.2+ KB\n"
     ]
    }
   ],
   "source": [
    "data.info()"
   ]
  },
  {
   "cell_type": "code",
   "execution_count": null,
   "id": "e3d73919",
   "metadata": {},
   "outputs": [],
   "source": [
    "#data.loc[data['Category']=='spam', 'Category',] =0\n",
    "#data.loc[data['Category']=='ham', 'Category',] =1"
   ]
  },
  {
   "cell_type": "code",
   "execution_count": 93,
   "id": "7f273f60",
   "metadata": {},
   "outputs": [],
   "source": [
    "data['Category'] = data['Category'].replace({'spam': 0, 'ham': 1})"
   ]
  },
  {
   "cell_type": "code",
   "execution_count": 94,
   "id": "33b9bccb",
   "metadata": {},
   "outputs": [],
   "source": [
    "X = data['Message']\n",
    "Y= data['Category']"
   ]
  },
  {
   "cell_type": "code",
   "execution_count": 95,
   "id": "3ffa0753",
   "metadata": {},
   "outputs": [
    {
     "name": "stdout",
     "output_type": "stream",
     "text": [
      "0       Go until jurong point, crazy.. Available only ...\n",
      "1                           Ok lar... Joking wif u oni...\n",
      "2       Free entry in 2 a wkly comp to win FA Cup fina...\n",
      "3       U dun say so early hor... U c already then say...\n",
      "4       Nah I don't think he goes to usf, he lives aro...\n",
      "                              ...                        \n",
      "5567    This is the 2nd time we have tried 2 contact u...\n",
      "5568                 Will ü b going to esplanade fr home?\n",
      "5569    Pity, * was in mood for that. So...any other s...\n",
      "5570    The guy did some bitching but I acted like i'd...\n",
      "5571                           Rofl. Its true to its name\n",
      "Name: Message, Length: 5572, dtype: object\n"
     ]
    }
   ],
   "source": [
    "print(X)"
   ]
  },
  {
   "cell_type": "code",
   "execution_count": 96,
   "id": "53942e3c",
   "metadata": {},
   "outputs": [
    {
     "name": "stdout",
     "output_type": "stream",
     "text": [
      "0       1\n",
      "1       1\n",
      "2       0\n",
      "3       1\n",
      "4       1\n",
      "       ..\n",
      "5567    0\n",
      "5568    1\n",
      "5569    1\n",
      "5570    1\n",
      "5571    1\n",
      "Name: Category, Length: 5572, dtype: int64\n"
     ]
    }
   ],
   "source": [
    "print(Y)"
   ]
  },
  {
   "cell_type": "code",
   "execution_count": 97,
   "id": "bb1882fc",
   "metadata": {},
   "outputs": [],
   "source": [
    "X_train, X_test, Y_train, Y_test = train_test_split(X,Y, test_size = 0.2, random_state =42)"
   ]
  },
  {
   "cell_type": "code",
   "execution_count": 98,
   "id": "ad2221af",
   "metadata": {},
   "outputs": [
    {
     "data": {
      "text/plain": [
       "((4457,), (1115,))"
      ]
     },
     "execution_count": 98,
     "metadata": {},
     "output_type": "execute_result"
    }
   ],
   "source": [
    "X_train.shape, X_test.shape"
   ]
  },
  {
   "cell_type": "code",
   "execution_count": 99,
   "id": "020c933a",
   "metadata": {},
   "outputs": [
    {
     "data": {
      "text/plain": [
       "((4457,), (1115,))"
      ]
     },
     "execution_count": 99,
     "metadata": {},
     "output_type": "execute_result"
    }
   ],
   "source": [
    "Y_train.shape, Y_test.shape"
   ]
  },
  {
   "cell_type": "code",
   "execution_count": 100,
   "id": "f222146c",
   "metadata": {},
   "outputs": [],
   "source": [
    "feature_extraction = TfidfVectorizer(min_df = 1, stop_words = 'english', lowercase = 'True')\n",
    "X_train_features = feature_extraction.fit_transform(X_train)\n",
    "X_test_features = feature_extraction.transform(X_test)\n",
    "\n",
    "Y_train = Y_train.astype(int)\n",
    "Y_test = Y_test.astype(int)"
   ]
  },
  {
   "cell_type": "code",
   "execution_count": 101,
   "id": "c995bd35",
   "metadata": {},
   "outputs": [
    {
     "name": "stdout",
     "output_type": "stream",
     "text": [
      "1978    Reply to win £100 weekly! Where will the 2006 ...\n",
      "3989    Hello. Sort of out in town already. That . So ...\n",
      "3935     How come guoyang go n tell her? Then u told her?\n",
      "4078    Hey sathya till now we dint meet not even a si...\n",
      "4086    Orange brings you ringtones from all time Char...\n",
      "                              ...                        \n",
      "3772    Hi, wlcome back, did wonder if you got eaten b...\n",
      "5191                               Sorry, I'll call later\n",
      "5226        Prabha..i'm soryda..realy..frm heart i'm sory\n",
      "5390                           Nt joking seriously i told\n",
      "860               Did he just say somebody is named tampa\n",
      "Name: Message, Length: 4457, dtype: object\n"
     ]
    }
   ],
   "source": [
    "print(X_train)"
   ]
  },
  {
   "cell_type": "code",
   "execution_count": 102,
   "id": "5e16a9b4",
   "metadata": {},
   "outputs": [
    {
     "name": "stdout",
     "output_type": "stream",
     "text": [
      "  (0, 5818)\t0.22682143517864364\n",
      "  (0, 2497)\t0.2442158912653505\n",
      "  (0, 694)\t0.3171299579602537\n",
      "  (0, 6264)\t0.1898892037332199\n",
      "  (0, 5800)\t0.17558937755823417\n",
      "  (0, 3262)\t0.33791755486732394\n",
      "  (0, 2049)\t0.3034375179183143\n",
      "  (0, 7300)\t0.24288153842988894\n",
      "  (0, 2724)\t0.3544175987866074\n",
      "  (0, 354)\t0.3544175987866074\n",
      "  (0, 7162)\t0.2550284465664535\n",
      "  (0, 258)\t0.2379428657041507\n",
      "  (0, 7222)\t0.2173884735352799\n",
      "  (0, 5512)\t0.1898892037332199\n",
      "  (1, 2555)\t0.3840709491751004\n",
      "  (1, 3804)\t0.1902902346515268\n",
      "  (1, 3932)\t0.24325511357721427\n",
      "  (1, 4509)\t0.4028245991060671\n",
      "  (1, 2440)\t0.33870544648398715\n",
      "  (1, 3333)\t0.20665394084233096\n",
      "  (1, 5650)\t0.360444144470318\n",
      "  (1, 2335)\t0.2162321275166079\n",
      "  (1, 6738)\t0.28986069568918\n",
      "  (1, 6109)\t0.3239762634465801\n",
      "  (1, 3267)\t0.2678713077029217\n",
      "  :\t:\n",
      "  (4452, 2438)\t0.4574160733416501\n",
      "  (4452, 7280)\t0.3968991650168732\n",
      "  (4452, 3978)\t0.4574160733416501\n",
      "  (4452, 3290)\t0.26370969643076225\n",
      "  (4452, 3084)\t0.22948428918295163\n",
      "  (4452, 2236)\t0.2676662072392096\n",
      "  (4453, 3874)\t0.6064947019588056\n",
      "  (4453, 4004)\t0.5244851817485773\n",
      "  (4453, 6108)\t0.5975612693457145\n",
      "  (4454, 6113)\t0.4465347909835087\n",
      "  (4454, 6114)\t0.4465347909835087\n",
      "  (4454, 5149)\t0.43410473161397095\n",
      "  (4454, 5409)\t0.4079234999314281\n",
      "  (4454, 3249)\t0.3182708584577292\n",
      "  (4454, 2893)\t0.38087861810984514\n",
      "  (4455, 5815)\t0.5332274226200294\n",
      "  (4455, 3691)\t0.5541750775894743\n",
      "  (4455, 4660)\t0.4924788339394118\n",
      "  (4455, 6686)\t0.40745931976870786\n",
      "  (4456, 4518)\t0.5364209818026567\n",
      "  (4456, 6078)\t0.46545159250664164\n",
      "  (4456, 6467)\t0.48168628392630153\n",
      "  (4456, 5719)\t0.3276287995831882\n",
      "  (4456, 2236)\t0.31389751705425334\n",
      "  (4456, 3720)\t0.24023610815826446\n"
     ]
    }
   ],
   "source": [
    "print(X_train_features)"
   ]
  },
  {
   "cell_type": "code",
   "execution_count": 103,
   "id": "b75bb036",
   "metadata": {},
   "outputs": [],
   "source": [
    "model = LogisticRegression()"
   ]
  },
  {
   "cell_type": "code",
   "execution_count": 104,
   "id": "4832b9b8",
   "metadata": {},
   "outputs": [
    {
     "data": {
      "text/plain": [
       "LogisticRegression()"
      ]
     },
     "execution_count": 104,
     "metadata": {},
     "output_type": "execute_result"
    }
   ],
   "source": [
    "model.fit(X_train_features, Y_train)"
   ]
  },
  {
   "cell_type": "code",
   "execution_count": 105,
   "id": "1e2691ed",
   "metadata": {},
   "outputs": [],
   "source": [
    "prediction_on_training_data = model.predict(X_train_features)"
   ]
  },
  {
   "cell_type": "code",
   "execution_count": 106,
   "id": "354bb35c",
   "metadata": {},
   "outputs": [],
   "source": [
    "accuracy_on_training_data = accuracy_score(Y_train, prediction_on_training_data )"
   ]
  },
  {
   "cell_type": "code",
   "execution_count": 107,
   "id": "8d8d1fc7",
   "metadata": {},
   "outputs": [
    {
     "name": "stdout",
     "output_type": "stream",
     "text": [
      "Accuracy on Training data is: 0.9661207089970832\n"
     ]
    }
   ],
   "source": [
    "print('Accuracy on Training data is:', accuracy_on_training_data)"
   ]
  },
  {
   "cell_type": "code",
   "execution_count": 109,
   "id": "759c6100",
   "metadata": {},
   "outputs": [],
   "source": [
    "prediction_on_test_data = model.predict(X_test_features)\n",
    "accuracy_on_testing_data = accuracy_score(Y_test, prediction_on_test_data)"
   ]
  },
  {
   "cell_type": "code",
   "execution_count": 110,
   "id": "f817e6e8",
   "metadata": {},
   "outputs": [
    {
     "name": "stdout",
     "output_type": "stream",
     "text": [
      "Accuracy on Testing data is: 0.967713004484305\n"
     ]
    }
   ],
   "source": [
    "print('Accuracy on Testing data is:', accuracy_on_testing_data)"
   ]
  },
  {
   "cell_type": "code",
   "execution_count": 91,
   "id": "8de3c69e",
   "metadata": {},
   "outputs": [
    {
     "data": {
      "text/plain": [
       "((4457,), (4457,))"
      ]
     },
     "execution_count": 91,
     "metadata": {},
     "output_type": "execute_result"
    }
   ],
   "source": [
    "y_train.shape, y_test.shape"
   ]
  },
  {
   "cell_type": "code",
   "execution_count": 80,
   "id": "3dc33cf0",
   "metadata": {},
   "outputs": [
    {
     "data": {
      "text/plain": [
       "((4457,), (4457,))"
      ]
     },
     "execution_count": 80,
     "metadata": {},
     "output_type": "execute_result"
    }
   ],
   "source": [
    "Y_train.shape, prediction_on_training_data.shape"
   ]
  },
  {
   "cell_type": "code",
   "execution_count": 127,
   "id": "b2fdc742",
   "metadata": {},
   "outputs": [],
   "source": [
    "input_mail = ['Free entry in 2 a wkly comp to win FA Cup final tkts 21st May 2005. Text FA to 87121 to receive entry question(std txt rate)T&Cs apply 08452810075over18s']\n",
    "# convert text feature section\n",
    "input_data_features = feature_extraction.transform(input_mail)\n",
    "prediction = model.predict(input_data_features)"
   ]
  },
  {
   "cell_type": "code",
   "execution_count": 128,
   "id": "5464e046",
   "metadata": {},
   "outputs": [
    {
     "name": "stdout",
     "output_type": "stream",
     "text": [
      "[0]\n"
     ]
    }
   ],
   "source": [
    "print(prediction)"
   ]
  },
  {
   "cell_type": "code",
   "execution_count": 129,
   "id": "cb54c463",
   "metadata": {},
   "outputs": [
    {
     "name": "stdout",
     "output_type": "stream",
     "text": [
      "spam mail\n"
     ]
    }
   ],
   "source": [
    "if(prediction[0]==1):\n",
    "    print('Ham mail')\n",
    "else:\n",
    "    print('spam mail')"
   ]
  },
  {
   "cell_type": "code",
   "execution_count": null,
   "id": "cbe5fe90",
   "metadata": {},
   "outputs": [],
   "source": []
  }
 ],
 "metadata": {
  "kernelspec": {
   "display_name": "Python 3 (ipykernel)",
   "language": "python",
   "name": "python3"
  },
  "language_info": {
   "codemirror_mode": {
    "name": "ipython",
    "version": 3
   },
   "file_extension": ".py",
   "mimetype": "text/x-python",
   "name": "python",
   "nbconvert_exporter": "python",
   "pygments_lexer": "ipython3",
   "version": "3.9.13"
  }
 },
 "nbformat": 4,
 "nbformat_minor": 5
}
